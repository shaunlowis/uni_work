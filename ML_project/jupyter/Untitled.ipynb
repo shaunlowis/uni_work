{
 "cells": [
  {
   "cell_type": "code",
   "execution_count": 1,
   "id": "2121d93c-35ca-4856-b33a-0808f3bf6725",
   "metadata": {},
   "outputs": [
    {
     "ename": "ModuleNotFoundError",
     "evalue": "No module named 'rasterio'",
     "output_type": "error",
     "traceback": [
      "\u001b[1;31m---------------------------------------------------------------------------\u001b[0m",
      "\u001b[1;31mModuleNotFoundError\u001b[0m                       Traceback (most recent call last)",
      "\u001b[1;32m<ipython-input-1-12537c5e80ba>\u001b[0m in \u001b[0;36m<module>\u001b[1;34m\u001b[0m\n\u001b[1;32m----> 1\u001b[1;33m \u001b[1;32mimport\u001b[0m \u001b[0mrasterio\u001b[0m\u001b[1;33m\u001b[0m\u001b[1;33m\u001b[0m\u001b[0m\n\u001b[0m\u001b[0;32m      2\u001b[0m \u001b[1;32mimport\u001b[0m \u001b[0mrioxarray\u001b[0m \u001b[1;32mas\u001b[0m \u001b[0mrxr\u001b[0m\u001b[1;33m\u001b[0m\u001b[1;33m\u001b[0m\u001b[0m\n\u001b[0;32m      3\u001b[0m \u001b[1;32mimport\u001b[0m \u001b[0mnumpy\u001b[0m \u001b[1;32mas\u001b[0m \u001b[0mnp\u001b[0m\u001b[1;33m\u001b[0m\u001b[1;33m\u001b[0m\u001b[0m\n\u001b[0;32m      4\u001b[0m \u001b[1;32mimport\u001b[0m \u001b[0mmatplotlib\u001b[0m \u001b[1;32mas\u001b[0m \u001b[0mmpl\u001b[0m\u001b[1;33m\u001b[0m\u001b[1;33m\u001b[0m\u001b[0m\n\u001b[0;32m      5\u001b[0m \u001b[1;33m\u001b[0m\u001b[0m\n",
      "\u001b[1;31mModuleNotFoundError\u001b[0m: No module named 'rasterio'"
     ]
    }
   ],
   "source": [
    "import rasterio\n",
    "import rioxarray as rxr\n",
    "import numpy as np\n",
    "import matplotlib as mpl\n",
    "\n",
    "from matplotlib import pyplot as plt\n",
    "from os.path import join\n",
    "from pyproj import Transformer\n",
    "from rasterio.plot import show\n",
    "from matplotlib import cm\n",
    "\n",
    "# reprojecting using GDAL:\n",
    "# gdalwarp -t_srs \"+proj=longlat +datum=WGS84 +no_defs\" DSM_BQ31_2013_1000_2138.tif regridded_DSM.tif\n",
    "\n",
    "DSM_file = r'DSM_BQ31_2013_1000_2138.tif'\n",
    "DSM_path = r'/home/shaun/Documents/work_dir/climate_sigma/land_data/working_dir/DSM'\n",
    "dsm_file = join(DSM_path, DSM_file)\n",
    "\n",
    "DEM_file = r'DEM_BQ31_2013_1000_2138.tif'\n",
    "DEM_path = r'/home/shaun/Documents/work_dir/climate_sigma/land_data/working_dir/DEM'\n",
    "dem_file = join(DEM_path, DEM_file)"
   ]
  },
  {
   "cell_type": "code",
   "execution_count": null,
   "id": "b0d6c47c-b0a5-4ffc-9eaa-6bbfb4453bb4",
   "metadata": {},
   "outputs": [],
   "source": []
  }
 ],
 "metadata": {
  "kernelspec": {
   "display_name": "Python 3",
   "language": "python",
   "name": "python3"
  },
  "language_info": {
   "codemirror_mode": {
    "name": "ipython",
    "version": 3
   },
   "file_extension": ".py",
   "mimetype": "text/x-python",
   "name": "python",
   "nbconvert_exporter": "python",
   "pygments_lexer": "ipython3",
   "version": "3.8.8"
  }
 },
 "nbformat": 4,
 "nbformat_minor": 5
}
