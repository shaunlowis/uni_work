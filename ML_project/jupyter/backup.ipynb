{
 "cells": [
  {
   "cell_type": "code",
   "execution_count": null,
   "id": "c9d5beaa-61a8-420e-9fed-220c097d0645",
   "metadata": {},
   "outputs": [],
   "source": [
    "import geopandas as gpd\n",
    "import numpy as np\n",
    "import matplotlib.pyplot as plt\n",
    "import rasterio\n",
    "from rasterio.plot import show\n",
    "from rasterio.merge import merge\n",
    "\n",
    "from os.path import join\n",
    "import glob\n",
    "from PIL import Image\n",
    "import PIL\n",
    "\n",
    "PIL.Image.MAX_IMAGE_PIXELS = 933120000"
   ]
  },
  {
   "cell_type": "code",
   "execution_count": null,
   "id": "6ee272c9-6692-4af7-900f-eb7a5b5e1de5",
   "metadata": {},
   "outputs": [],
   "source": [
    "img_dir = r'D:\\python\\uni_work\\ML_project\\data_raw\\canterbury-03m-rural-aerial-photos-2015-2016'\n",
    "shp_dir = r'D:\\python\\uni_work\\ML_project\\data_raw\\nz-building-outlines'\n",
    "\n",
    "shapefile = join(shp_dir + r'/nz-building-outlines.shp')\n",
    "ims = glob.glob(img_dir + '/*.tif')"
   ]
  },
  {
   "cell_type": "code",
   "execution_count": null,
   "id": "0ac027ac-6384-47a4-9eee-64e6806ed600",
   "metadata": {},
   "outputs": [],
   "source": [
    "shp = gpd.read_file(shapefile)\n",
    "savedir = r'D:\\python\\uni_work\\ML_project\\input\\mask'\n",
    "\n",
    "plt.rcParams['axes.xmargin'] = 0\n",
    "plt.rcParams['axes.ymargin'] = 0\n",
    "\n",
    "out_shape = (19879, 24579)\n",
    "\n",
    "fig, ax = plt.subplots(figsize=(2.4579, 1.9879), frameon=False, dpi=1000)\n",
    "fig.patch.set_facecolor('black')\n",
    "shp.plot(ax=ax, figsize=(20,18), facecolor=\"None\", color='white', aspect='auto')\n",
    "plt.axis('off')\n",
    "# %config InlineBackend.print_figure_kwargs = {'bbox_inches':None}\n",
    "fig = plt.gcf()\n",
    "DPI = fig.get_dpi()\n",
    "fig.set_size_inches(24579.0/float(DPI),19879.0/float(DPI))\n",
    "plt.gca().set_position([0, 0, 1, 1])\n",
    "plt.axis('tight')\n",
    "\n",
    "plt.show()\n",
    "# plt.savefig(savedir + '\\\\rolleston_mask2.tif', dpi=1000)"
   ]
  },
  {
   "cell_type": "code",
   "execution_count": null,
   "id": "0b8cd4cd-879f-4156-82ea-a94a6f378234",
   "metadata": {},
   "outputs": [],
   "source": [
    "mosaic_in = []\n",
    "\n",
    "for im in ims:\n",
    "    tar_im = rasterio.open(im) \n",
    "    mosaic_in.append(tar_im)\n",
    "    \n",
    "mosaic, out_trans = merge(mosaic_in)"
   ]
  },
  {
   "cell_type": "code",
   "execution_count": null,
   "id": "b5d4d475-a321-436d-87ea-38372092bffc",
   "metadata": {},
   "outputs": [],
   "source": [
    "from PIL import Image\n",
    "from itertools import product\n",
    "import os\n",
    "\n",
    "def tile(filename, dir_in, dir_out, d):\n",
    "    name, ext = os.path.splitext(filename)\n",
    "    img = Image.open(os.path.join(dir_in, filename))\n",
    "    w, h = img.size\n",
    "    \n",
    "    grid = product(range(0, h-h%d, d), range(0, w-w%d, d))\n",
    "    for i, j in grid:\n",
    "        box = (j, i, j+d, i+d)\n",
    "        out = os.path.join(dir_out, f'{name}_{i}_{j}{ext}')\n",
    "        img.crop(box).save(out)\n",
    "        \n",
    "tile('rolleston_mask2.tif', r'D:\\python\\uni_work\\ML_project\\input\\mask', r'D:\\python\\uni_work\\ML_project\\input\\training\\mask', 80)\n",
    "# tile(r'mosaic.tif', r'D:\\python\\uni_work\\ML_project\\input\\mosaic', r'D:\\python\\uni_work\\ML_project\\input\\training\\raw', 80)"
   ]
  },
  {
   "cell_type": "code",
   "execution_count": null,
   "id": "a1409d35-05db-4347-b2d4-1c927945e4c3",
   "metadata": {},
   "outputs": [],
   "source": [
    "import earthpy as et\n",
    "import earthpy.spatial as es\n",
    "import earthpy.plot as ep\n",
    "from rasterio.plot import plotting_extent\n",
    "savedir = r'D:\\python\\uni_work\\ML_project\\input\\mask'\n",
    "inpath = r'D:\\python\\uni_work\\ML_project\\input\\mosaic\\rolleston_black.jpg'"
   ]
  },
  {
   "cell_type": "code",
   "execution_count": null,
   "id": "a0a3fdb4-cf7c-46b8-87e3-aec482c98f9c",
   "metadata": {},
   "outputs": [],
   "source": [
    "backdrop = rasterio.open(r'D:\\python\\uni_work\\ML_project\\input\\mosaic\\mosaic.tif')\n",
    "extent = plotting_extent(backdrop)\n",
    "\n",
    "plt.rcParams['axes.xmargin'] = 0\n",
    "plt.rcParams['axes.ymargin'] = 0\n",
    "\n",
    "fig, ax = plt.subplots(figsize=(51.2, 51.2), frameon=False, dpi=1000)\n",
    "\n",
    "ep.plot_rgb(backdrop.read(),\n",
    "            ax=ax,\n",
    "            extent=extent)\n",
    "\n",
    "plt.axis('off')\n",
    "ax.cla()\n",
    "fig.patch.set_facecolor('black')\n",
    "ax.set_axis_off()\n",
    "shp.plot(ax=ax, aspect='auto', color='white')\n",
    "\n",
    "plt.gca().set_position([0, 0, 1, 1])\n",
    "plt.axis('tight')\n",
    "\n",
    "plt.savefig(savedir + '\\\\rolleston_mask.tif', dpi=1000)"
   ]
  },
  {
   "cell_type": "code",
   "execution_count": null,
   "id": "21a8fa8f-fbe8-4bcc-88fa-71cff69f2c43",
   "metadata": {},
   "outputs": [],
   "source": [
    "backdrop = rasterio.open(r'D:\\python\\uni_work\\ML_project\\input\\mosaic\\mosaic.tif')\n",
    "extent = plotting_extent(backdrop)\n",
    "\n",
    "plt.rcParams['axes.xmargin'] = 0\n",
    "plt.rcParams['axes.ymargin'] = 0\n",
    "\n",
    "fig, ax = plt.subplots(figsize=(51.2, 51.2), frameon=False, dpi=1000)\n",
    "\n",
    "ep.plot_rgb(backdrop.read(),\n",
    "            ax=ax,\n",
    "            extent=extent)\n",
    "\n",
    "plt.axis('off')\n",
    "\n",
    "plt.gca().set_position([0, 0, 1, 1])\n",
    "plt.axis('tight')\n",
    "\n",
    "plt.savefig(savedir + '\\\\rolleston_mosiac.tif', dpi=1000)"
   ]
  },
  {
   "cell_type": "code",
   "execution_count": null,
   "id": "ee436d56-59ec-484e-a131-80f653c063b4",
   "metadata": {},
   "outputs": [],
   "source": [
    "# tile(filename, dir_in, dir_out, d)\n",
    "tile('rolleston_mask.tif', r'D:\\python\\uni_work\\ML_project\\input\\mask', r'D:\\python\\uni_work\\ML_project\\input\\mask\\mask', 512)\n",
    "tile(r'mosaic.tif', r'D:\\python\\uni_work\\ML_project\\input\\mask', r'D:\\python\\uni_work\\ML_project\\input\\mask\\truth', 512)"
   ]
  },
  {
   "cell_type": "code",
   "execution_count": null,
   "id": "7b37d63f-67f8-44cf-9bf4-7e5f55f10120",
   "metadata": {},
   "outputs": [],
   "source": []
  },
  {
   "cell_type": "code",
   "execution_count": null,
   "id": "96fd4bd3-bffe-477b-9865-9a80ea7d773b",
   "metadata": {},
   "outputs": [],
   "source": []
  },
  {
   "cell_type": "code",
   "execution_count": null,
   "id": "48ad7663-34d5-43af-bee4-d13980642376",
   "metadata": {},
   "outputs": [],
   "source": []
  },
  {
   "cell_type": "code",
   "execution_count": null,
   "id": "a68c702c-5afd-48f1-b1dc-d135a094c3bb",
   "metadata": {},
   "outputs": [],
   "source": []
  },
  {
   "cell_type": "code",
   "execution_count": null,
   "id": "f6b25dac-d8db-4ce3-a01f-e4b7e27c11ad",
   "metadata": {},
   "outputs": [],
   "source": []
  }
 ],
 "metadata": {
  "kernelspec": {
   "display_name": "Python 3 (ipykernel)",
   "language": "python",
   "name": "python3"
  },
  "language_info": {
   "codemirror_mode": {
    "name": "ipython",
    "version": 3
   },
   "file_extension": ".py",
   "mimetype": "text/x-python",
   "name": "python",
   "nbconvert_exporter": "python",
   "pygments_lexer": "ipython3",
   "version": "3.9.7"
  }
 },
 "nbformat": 4,
 "nbformat_minor": 5
}
