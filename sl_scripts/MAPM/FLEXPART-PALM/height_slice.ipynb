{
 "cells": [
  {
   "cell_type": "code",
   "execution_count": 4,
   "metadata": {},
   "outputs": [],
   "source": [
    "import torch\n",
    "\n",
    "import numpy as np\n",
    "import xarray as xr\n",
    "import matplotlib.pyplot as plt\n",
    "from os.path import join\n",
    "\n",
    "# Save output NetCDF as merged_not_tf.nc"
   ]
  },
  {
   "cell_type": "code",
   "execution_count": 14,
   "metadata": {},
   "outputs": [],
   "source": [
    "merged_fp = join(r'/home/leroy/flexpart/paper/well_mixed_time_step/runs/hill_well_mixed_ts_1/flex_out', 'merged.nc')\n",
    "topo_fp = join(r'/mnt/temp/Projects/MAPM/Data_Keep/Flexpart_PALM/shaun/', 'tunnel_smooth_topo_static.nc')\n",
    "header_fp = join(r'/home/leroy/flexpart/paper/well_mixed_time_step/runs/hill_well_mixed_ts_1/flex_out', 'header_d01.nc')"
   ]
  },
  {
   "cell_type": "code",
   "execution_count": 15,
   "metadata": {},
   "outputs": [],
   "source": [
    "merged = xr.open_dataset(merged_fp)\n",
    "topo = xr.open_dataset(topo_fp)\n",
    "header = xr.open_dataset(header_fp)"
   ]
  },
  {
   "cell_type": "code",
   "execution_count": 16,
   "metadata": {},
   "outputs": [],
   "source": [
    "a = torch.from_numpy(topo['zt'].values)"
   ]
  },
  {
   "cell_type": "code",
   "execution_count": 17,
   "metadata": {},
   "outputs": [
    {
     "data": {
      "text/plain": [
       "torch.Size([128, 256])"
      ]
     },
     "execution_count": 17,
     "metadata": {},
     "output_type": "execute_result"
    }
   ],
   "source": [
    "a.shape"
   ]
  },
  {
   "cell_type": "code",
   "execution_count": 18,
   "metadata": {},
   "outputs": [],
   "source": [
    "topo_interp = torch.nn.functional.avg_pool2d(torch.from_numpy(topo['zt'].values)[None], 4, 4).numpy()[0]"
   ]
  },
  {
   "cell_type": "code",
   "execution_count": 19,
   "metadata": {},
   "outputs": [
    {
     "data": {
      "text/plain": [
       "(32, 64)"
      ]
     },
     "execution_count": 19,
     "metadata": {},
     "output_type": "execute_result"
    }
   ],
   "source": [
    "topo_interp.shape"
   ]
  },
  {
   "cell_type": "code",
   "execution_count": 20,
   "metadata": {},
   "outputs": [],
   "source": [
    "data = merged['CONC'].values\n",
    "new = np.full_like(merged['CONC'].values, np.nan)\n",
    "for n, hgt in enumerate(header['ZTOP'].values):\n",
    "    mask = topo_interp <= hgt\n",
    "    new[:, :, :, :, n:n+1 , mask] = data[:, :, :, :, n:n+1 , mask]"
   ]
  },
  {
   "cell_type": "code",
   "execution_count": 21,
   "metadata": {},
   "outputs": [
    {
     "data": {
      "text/plain": [
       "<matplotlib.collections.QuadMesh at 0x7f6d861e5978>"
      ]
     },
     "execution_count": 21,
     "metadata": {},
     "output_type": "execute_result"
    },
    {
     "data": {
      "image/png": "[encoded data removed]",
      "text/plain": [
       "<Figure size 432x288 with 1 Axes>"
      ]
     },
     "metadata": {
      "needs_background": "light"
     },
     "output_type": "display_data"
    }
   ],
   "source": [
    "plt.pcolormesh(new[50, 0, 0, 0 ,5 ])"
   ]
  },
  {
   "cell_type": "code",
   "execution_count": 22,
   "metadata": {},
   "outputs": [
    {
     "data": {
      "text/plain": [
       "<xarray.DataArray 'CONC' (record: 142, Time: 1, ageclass: 1, species: 1, bottom_top: 39, south_north: 32, west_east: 64)>\n",
       "array([[[[[[[  932.8315, ...,     0.    ],\n",
       "            ...,\n",
       "            [ 3938.6228, ..., 12437.758 ]],\n",
       "\n",
       "           ...,\n",
       "\n",
       "           [[ 2453.374 , ...,  6542.3296],\n",
       "            ...,\n",
       "            [    0.    , ...,  6542.3325]]]]]],\n",
       "\n",
       "\n",
       "\n",
       "\n",
       "\n",
       "       ...,\n",
       "\n",
       "\n",
       "\n",
       "\n",
       "\n",
       "       [[[[[[23320.76  , ..., 63432.41  ],\n",
       "            ...,\n",
       "            [ 2487.5518, ...,  6633.4707]],\n",
       "\n",
       "           ...,\n",
       "\n",
       "           [[ 2453.374 , ...,  6542.3296],\n",
       "            ...,\n",
       "            [    0.    , ...,  6542.3325]]]]]]], dtype=float32)\n",
       "Dimensions without coordinates: record, Time, ageclass, species, bottom_top, south_north, west_east\n",
       "Attributes:\n",
       "    description:  CONCENTRATION OF AIRBORNE SPECIES\n",
       "    coordinates:  XLONG XLAT\n",
       "    units:        ng m-3"
      ]
     },
     "execution_count": 22,
     "metadata": {},
     "output_type": "execute_result"
    }
   ],
   "source": [
    "merged['CONC']"
   ]
  },
  {
   "cell_type": "code",
   "execution_count": 24,
   "metadata": {},
   "outputs": [],
   "source": [
    "outdir = join(r'/home/leroy/flexpart/paper/well_mixed_time_step/runs/hill_well_mixed_ts_1/flex_out', 'merged_not_tf.nc')\n",
    "da = xr.DataArray(data=new,\n",
    "                  dims=[\"record\", \"Time\", \"ageclass\", \"species\", \"bottom_top\", \"south_north\", \"west_east\"],\n",
    "                  attrs=dict(description=\"CONCENTRATION OF AIRBORNE SPECIES\",\n",
    "                             coordinates= \"XLONG XLAT\",\n",
    "                             units=\"ng m-3\",),)\n",
    "\n",
    "da.to_netcdf(outdir)"
   ]
  },
  {
   "cell_type": "code",
   "execution_count": null,
   "metadata": {},
   "outputs": [],
   "source": []
  }
 ],
 "metadata": {
  "kernelspec": {
   "display_name": "Python 3.6.7 64-bit ('bs-36': conda)",
   "language": "python",
   "name": "python36764bitbs36conda34220f13185346cbba57b425edb30383"
  },
  "language_info": {
   "codemirror_mode": {
    "name": "ipython",
    "version": 3
   },
   "file_extension": ".py",
   "mimetype": "text/x-python",
   "name": "python",
   "nbconvert_exporter": "python",
   "pygments_lexer": "ipython3",
   "version": "3.6.7"
  }
 },
 "nbformat": 4,
 "nbformat_minor": 4
}
